{
 "cells": [
  {
   "cell_type": "code",
   "execution_count": 1,
   "metadata": {},
   "outputs": [
    {
     "data": {
      "text/plain": [
       "maxlinkdim (generic function with 2 methods)"
      ]
     },
     "execution_count": 1,
     "metadata": {},
     "output_type": "execute_result"
    }
   ],
   "source": [
    "using LinearAlgebra\n",
    "using PyPlot\n",
    "using PyCall\n",
    "import TensorCrossInterpolation as TCI\n",
    "using SparseIR\n",
    "using ITensors\n",
    "ITensors.disable_warn_order()\n",
    "\n",
    "BLAS.set_num_threads(1)\n",
    "\n",
    "rcParams = PyPlot.PyDict(PyPlot.matplotlib.\"rcParams\")\n",
    "rcParams[\"text.usetex\"] = true\n",
    "#rcParams[\"text.latex.preamble\"] = [r\"\\usepackage{lmodern}\", r\"\\usepackage{gensymb}\", r\"\\usepackage{amsmath}\"]\n",
    "\n",
    "function displaymatrix(A::Matrix)\n",
    "    show(stdout, \"text/plain\", A)\n",
    "end\n",
    "\n",
    "function maxlinkdim(n::Integer, localdim::Integer=2)\n",
    "    return 0:n-2, [min(localdim^i, localdim^(n - i)) for i in 1:(n-1)]\n",
    "end"
   ]
  },
  {
   "cell_type": "code",
   "execution_count": 2,
   "metadata": {},
   "outputs": [
    {
     "data": {
      "text/plain": [
       "1-element Vector{String}:\n",
       " \"Computer Modern Roman\""
      ]
     },
     "execution_count": 2,
     "metadata": {},
     "output_type": "execute_result"
    }
   ],
   "source": [
    "rcParams = PyDict(matplotlib[\"rcParams\"])\n",
    "rcParams[\"font.size\"] = 18\n",
    "rcParams[\"text.usetex\"] = true\n",
    "rcParams[\"font.family\"] = \"serif\"\n",
    "rcParams[\"text.latex.preamble\"] = [raw\"\\usepackage{amsmath}\"]\n",
    "rcParams[\"font.serif\"] = [\"Computer Modern Roman\"]"
   ]
  },
  {
   "cell_type": "markdown",
   "metadata": {},
   "source": [
    "# Haldane model\n",
    "\n",
    "- [See Haldane PRL 1988]\n",
    "\n",
    "The Bloch Hamiltonian is a 2x2 matrix\n",
    "$$\n",
    "H(\\mathbf{k}) =\n",
    "2t_2 \\cos\\phi \\left[ \\sum_i \\cos(\\mathbf{k}\\cdot\\mathbf{b}_i) \\right] \\sigma^0 +\n",
    "t_1 \\left[ \\sum_i \\cos(\\mathbf{k} \\cdot \\mathbf{a_i}) \\right] \\sigma^1 +\n",
    "t_1 \\left[ \\sum_i \\sin(\\mathbf{k} \\cdot \\mathbf{a_i}) \\right] \\sigma^2 +\n",
    "$$\n",
    "$$\n",
    "+\\left[m - 2t_2 \\sin\\phi \\sum_i \\sin(\\mathbf{k}\\cdot\\mathbf{b_i}) \\right] \\sigma^3\n",
    "$$\n",
    "where $\\sigma^\\mu$ are Pauli matrices (with identity $\\sigma^0$), $a_i$ are distance vectors between nearest neighbours and $b_i$ are between next-nearest neighbours. In the following, I set $t_1 = 1$ as unit of energy, and choose $t_2 = 0.1, \\phi = \\pi/2$. For this choice of parameters, the model is\n",
    "\n",
    " * topologically nontrivial for $|m| < 0.3\\sqrt 3$ with Chern number $-1$,\n",
    " \n",
    " * trivial for $|m| > 0.3\\sqrt 3$ (Chern number $0$)\n",
    " \n",
    " * and has a Dirac point for $|m| = 0.3\\sqrt 3$ (Chern number $-1/2$).\n",
    "\n",
    "Close to the transition, the gap at the dirac point is approximately $2\\delta m$, where $\\delta m = |m - 0.3\\sqrt 3|$. Accordingly, we need a lattice with resolution $\\sim \\delta m$ to resolve the gap and get the correct Chern number."
   ]
  },
  {
   "cell_type": "code",
   "execution_count": 3,
   "metadata": {},
   "outputs": [
    {
     "data": {
      "text/plain": [
       "ghaldane (generic function with 1 method)"
      ]
     },
     "execution_count": 3,
     "metadata": {},
     "output_type": "execute_result"
    }
   ],
   "source": [
    "pauli0 = [1. 0.; 0. 1.]\n",
    "pauli = [\n",
    "    [0. 1.; 1. 0.],\n",
    "    [0. -1.0im; 1.0im 0.],\n",
    "    [1. 0.; 0. -1.]\n",
    "]\n",
    "\n",
    "antisymmetricproduct(u, v) = u[1] * v[2] - u[2] * v[1]\n",
    "    \n",
    "function haldane(k, t2, ϕ, m)\n",
    "    a::Vector{Vector{Float64}} =\n",
    "    [\n",
    "        [1, 0],\n",
    "        [-0.5, 0.5sqrt(3)],\n",
    "        [-0.5, -0.5sqrt(3)]\n",
    "    ]\n",
    "    b::Vector{Vector{Float64}} = [a[2] - a[3], a[3] - a[1], a[1] - a[2]]\n",
    "\n",
    "    return 2 * t2 * cos(ϕ) * sum(cos(k' * bi) for bi in b) * pauli0 +    # NNN hopping\n",
    "        sum(cos(k' * ai) * pauli[1] + sin(k' * ai) * pauli[2] for ai in a) + # NN hopping\n",
    "        (m - 2 * t2 * sin(ϕ) * sum(sin(k' * bi) for bi in b)) * pauli[3]    # staggered offset\n",
    "end\n",
    "\n",
    "function ghaldane(k, t2, ϕ, m, β, μ)\n",
    "    ek = eigvals(haldane(k, t2, ϕ,m))\n",
    "    iv = SparseIR.valueim(SparseIR.FermionicFreq(1), β)\n",
    "    return sum(1 ./ (iv .- ek .+ μ))\n",
    "end"
   ]
  },
  {
   "cell_type": "code",
   "execution_count": 4,
   "metadata": {},
   "outputs": [
    {
     "data": {
      "text/plain": [
       "7-element Vector{Vector{Float64}}:\n",
       " [2.0943951023931953, 1.2091995761561452]\n",
       " [2.0943951023931953, -1.2091995761561452]\n",
       " [0.0, -2.4183991523122903]\n",
       " [-2.0943951023931953, -1.2091995761561452]\n",
       " [-2.0943951023931953, 1.2091995761561452]\n",
       " [0.0, 2.4183991523122903]\n",
       " [2.0943951023931953, 1.2091995761561452]"
      ]
     },
     "execution_count": 4,
     "metadata": {},
     "output_type": "execute_result"
    }
   ],
   "source": [
    "BZcontour = [\n",
    "    [2pi / 3, 2pi/(3sqrt(3))],\n",
    "    [2pi / 3, -2pi/(3sqrt(3))],\n",
    "    [0, -4pi/(3sqrt(3))],\n",
    "    [-2pi / 3, -2pi/(3sqrt(3))],\n",
    "    [-2pi / 3, 2pi/(3sqrt(3))],\n",
    "    [0, 4pi/(3sqrt(3))],\n",
    "    [2pi / 3, 2pi/(3sqrt(3))],\n",
    "]\n"
   ]
  },
  {
   "cell_type": "code",
   "execution_count": 5,
   "metadata": {},
   "outputs": [
    {
     "name": "stdout",
     "output_type": "stream",
     "text": [
      "Gap ≈ 0.0019999999999997797\n"
     ]
    },
    {
     "data": {
      "image/png": "[encoded data removed]",
      "text/plain": [
       "Figure(PyObject <Figure size 341.667x222.222 with 2 Axes>)"
      ]
     },
     "metadata": {},
     "output_type": "display_data"
    }
   ],
   "source": [
    "deltam = -0.001\n",
    "\n",
    "t2 = 0.1 #0.1\n",
    "phi = pi/2\n",
    "m = 3sqrt(3) * t2 + deltam\n",
    "\n",
    "μ = 1.0\n",
    "\n",
    "nplot = 400\n",
    "\n",
    "BZedgex = 4pi / 3\n",
    "BZedgey = 8pi / (3sqrt(3))\n",
    "kxplot = range(-BZedgex, BZedgex; length=nplot)\n",
    "kyplot = range(-BZedgey, BZedgey; length=nplot)\n",
    "\n",
    "bands = [eigvals(haldane([kx, ky], t2, phi, m)) for kx in kxplot, ky in kyplot]\n",
    "\n",
    "fig, axs = subplots(ncols=2, figsize=(246/72, 160/72))\n",
    "axs[1].plot(kyplot, bands[div(nplot, 2), :]);\n",
    "axs[2].plot(kxplot, bands[:, div(nplot, 2)]);\n",
    "\n",
    "axs[1].axvline(-4pi/(3sqrt(3)), color=\"gray\", linewidth=0.5)\n",
    "axs[1].axvline(4pi/(3sqrt(3)), color=\"gray\", linewidth=0.5)\n",
    "\n",
    "axs[2].axvline(-2pi / 3, color=\"gray\", linewidth=0.5)\n",
    "axs[2].axvline(2pi / 3, color=\"gray\", linewidth=0.5)\n",
    "\n",
    "axs[1].set_xlabel(L\"$k_x$\")\n",
    "axs[2].set_xlabel(L\"$k_y$\")\n",
    "axs[1].set_ylabel(L\"$E_n(k_x, 0)$\")\n",
    "\n",
    "gap = minimum(b[2] for b in bands) - maximum(b[1] for b in bands)\n",
    "println(\"Gap ≈ $gap\")"
   ]
  },
  {
   "cell_type": "code",
   "execution_count": 6,
   "metadata": {},
   "outputs": [],
   "source": [
    "function tobins(i, nbit)\n",
    "    @assert 1 ≤ i ≤ 2^nbit\n",
    "    mask = 1 << (nbit-1)\n",
    "    bin = ones(Int, nbit)\n",
    "    for n in 1:nbit\n",
    "        bin[n] = (mask & (i-1)) >> (nbit-n) + 1\n",
    "        mask = mask >> 1\n",
    "    end\n",
    "    return bin\n",
    "end\n",
    "\n",
    "function frombins(bin)\n",
    "    @assert all(1 .≤ bin .≤ 2)\n",
    "    nbit = length(bin)\n",
    "    i = 1\n",
    "    tmp = 2^(nbit-1)\n",
    "    for n in eachindex(bin)\n",
    "        i += tmp * (bin[n] -1)\n",
    "        tmp = tmp >> 1\n",
    "    end\n",
    "    return i\n",
    "end\n",
    "\n",
    "@assert frombins(tobins(4, 10)) == 4"
   ]
  },
  {
   "cell_type": "code",
   "execution_count": 7,
   "metadata": {},
   "outputs": [
    {
     "data": {
      "text/plain": [
       "gengkdata (generic function with 1 method)"
      ]
     },
     "execution_count": 7,
     "metadata": {},
     "output_type": "execute_result"
    }
   ],
   "source": [
    "function genfunc(t2, ϕ, m, β, μ)\n",
    "    BZedgex = 4pi / 3\n",
    "    BZedgey = 8pi / (3sqrt(3))\n",
    "    function gkb(b)\n",
    "        nbit = length(b) ÷ 2\n",
    "        N = 2^nbit\n",
    "        dkx = 2*BZedgex/N\n",
    "        dky = 2*BZedgey/N\n",
    "        ikx = frombins(b[1:2:end])\n",
    "        iky = frombins(b[2:2:end])\n",
    "        k = [dkx * (ikx-1) - BZedgex, dky * (iky-1) - BZedgey]\n",
    "        return ghaldane(k, t2, ϕ, m, β, μ)\n",
    "    end\n",
    "end\n",
    "\n",
    "function gengkdata(gkb, nbit)\n",
    "    N = 2^nbit\n",
    "    gkdata = zeros(ComplexF64, N, N)\n",
    "    for ikx in 1:N, iky in 1:N\n",
    "        bx = tobins(ikx, nbit)\n",
    "        by = tobins(iky, nbit)\n",
    "        b = collect(Iterators.flatten(zip(bx, by)))\n",
    "        gkdata[ikx, iky] = gkb(b)\n",
    "    end\n",
    "    return gkdata\n",
    "end\n",
    "#gkdata = gengkdata(genfunc(t2, phi, m, β, μ), 10)\n",
    "#pcolormesh(abs.(gkdata))"
   ]
  },
  {
   "cell_type": "code",
   "execution_count": 8,
   "metadata": {},
   "outputs": [
    {
     "data": {
      "text/plain": [
       "100"
      ]
     },
     "execution_count": 8,
     "metadata": {},
     "output_type": "execute_result"
    }
   ],
   "source": [
    "#betas = [1.0, 4.0, 16.0, 64.0]\n",
    "#tols = [1e-3, 1e-4, 1e-5]\n",
    "#cutoffs_mps = [1e-6, 1e-8, 1e-10, 1e-12, 1e-14]\n",
    "beta = 512.0\n",
    "nbits = [10, 12, 14, 20, 30]\n",
    "Dmax = 100"
   ]
  },
  {
   "cell_type": "code",
   "execution_count": 9,
   "metadata": {},
   "outputs": [],
   "source": [
    "sites_nbit = Dict()\n",
    "for nbit in nbits\n",
    "    sitesx =  [Index(2, \"Qubit,kx=$k\") for k in 1:nbit]\n",
    "    sitesy =  [Index(2, \"Qubit,ky=$k\") for k in 1:nbit]\n",
    "    sites = collect(Iterators.flatten(zip(sitesx, sitesy)))\n",
    "    sites_nbit[nbit] = sites\n",
    "end"
   ]
  },
  {
   "cell_type": "markdown",
   "metadata": {},
   "source": [
    "# TCI"
   ]
  },
  {
   "cell_type": "code",
   "execution_count": 10,
   "metadata": {
    "scrolled": true,
    "tags": []
   },
   "outputs": [
    {
     "name": "stdout",
     "output_type": "stream",
     "text": [
      "nbit = 10\n",
      "rank= 10 , error= 9.48904805625233\n",
      "rank= 20 , error= 7.737883875395114\n",
      "rank= 30 , error= 7.77466337999386\n",
      "rank= 40 , error= 7.226441616777893\n",
      "rank= 50 , error= 5.635359711372855\n",
      "rank= 60 , error= 1.0695098819109445\n",
      "rank= 70 , error= 0.23732621995080266\n",
      "rank= 80 , error= 0.008370320868769071\n",
      "rank= 90 , error= 0.0009445348938690905\n",
      "rank= 100 , error= 0.00011700495779041957\n",
      "  9.174473 seconds (40.25 M allocations: 3.967 GiB, 7.75% gc time, 67.29% compilation time)\n",
      "TCI.linkdims(qtt) = [1, 2, 4, 8, 14, 19, 37, 69, 100, 100, 100, 100, 100, 64, 32, 16, 8, 4, 2]\n",
      "nbit = 12\n",
      "rank= 10 , error= 11.103403488305618\n",
      "rank= 20 , error= 11.634175916954588\n",
      "rank= 30 , error= 7.502548949454509\n",
      "rank= 40 , error= 7.1748986359263265\n",
      "rank= 50 , error= 5.783872569476444\n",
      "rank= 60 , error= 3.8126747138935935\n",
      "rank= 70 , error= 2.668403545539852\n",
      "rank= 80 , error= 1.5151474122816797\n",
      "rank= 90 , error= 1.0995556666359414\n",
      "rank= 100 , error= 0.6560328869916676\n",
      "  5.284022 seconds (37.02 M allocations: 5.317 GiB, 10.46% gc time)\n",
      "TCI.linkdims(qtt) = [1, 2, 4, 8, 14, 19, 37, 69, 100, 100, 100, 100, 100, 100, 100, 100, 100, 64, 32, 16, 8, 4, 2]\n",
      "nbit = 14\n",
      "rank= 10 , error= 17.582313438604963\n",
      "rank= 20 , error= 9.844933835779388\n",
      "rank= 30 , error= 8.492686997923602\n",
      "rank= 40 , error= 7.931961629184418\n",
      "rank= 50 , error= 7.276845390216176\n",
      "rank= 60 , error= 3.7871260662435526\n",
      "rank= 70 , error= 2.6097059285448445\n",
      "rank= 80 , error= 1.668788869788087\n",
      "rank= 90 , error= 1.0621267137785526\n",
      "rank= 100 , error= 0.8266383539551431\n",
      "  7.507178 seconds (52.72 M allocations: 7.604 GiB, 11.12% gc time, 0.05% compilation time)\n",
      "TCI.linkdims(qtt) = [1, 2, 4, 8, 14, 18, 36, 68, 100, 100, 100, 100, 100, 100, 100, 100, 100, 100, 100, 100, 100, 64, 32, 16, 8, 4, 2]\n",
      "nbit = 20\n",
      "rank= 10 , error= 8.764126376297293\n",
      "rank= 20 , error= 10.853250524473646\n",
      "rank= 30 , error= 10.021132235639744\n",
      "rank= 40 , error= 10.485064759615721\n",
      "rank= 50 , error= 5.510571518273597\n",
      "rank= 60 , error= 4.144159873260316\n",
      "rank= 70 , error= 2.9082642957883102\n",
      "rank= 80 , error= 1.5557439730669511\n",
      "rank= 90 , error= 1.0363492305147282\n",
      "rank= 100 , error= 0.821472827860369\n",
      " 15.262850 seconds (100.16 M allocations: 14.674 GiB, 11.24% gc time)\n",
      "TCI.linkdims(qtt) = [1, 2, 4, 8, 14, 18, 36, 68, 100, 100, 100, 100, 100, 100, 100, 100, 100, 100, 100, 100, 100, 100, 100, 100, 100, 100, 100, 100, 100, 100, 100, 100, 100, 64, 32, 16, 8, 4, 2]\n",
      "nbit = 30\n",
      "rank= 10 , error= 8.764115674056198\n",
      "rank= 20 , error= 8.456888281901023\n",
      "rank= 30 , error= 8.40768608566105\n",
      "rank= 40 , error= 6.597072606602141\n",
      "rank= 50 , error= 7.775534240615634\n",
      "rank= 60 , error= 5.032272746178942\n",
      "rank= 70 , error= 2.7637750226559965\n",
      "rank= 80 , error= 2.5227395429556925\n",
      "rank= 90 , error= 1.5977021307524204\n",
      "rank= 100 , error= 0.6312110256145581\n",
      " 29.727325 seconds (177.70 M allocations: 26.602 GiB, 10.82% gc time)\n",
      "TCI.linkdims(qtt) = [1, 2, 4, 8, 14, 18, 36, 66, 100, 100, 100, 100, 100, 100, 100, 100, 100, 100, 100, 100, 100, 100, 100, 100, 100, 100, 100, 100, 100, 100, 100, 100, 100, 100, 100, 100, 100, 99, 99, 99, 99, 99, 99, 99, 99, 99, 99, 99, 99, 99, 99, 99, 99, 64, 32, 16, 8, 4, 2]\n",
      "nbit = 10\n",
      "rank= 10 , error= 9.48904805625233\n",
      "rank= 20 , error= 7.737883875395114\n",
      "rank= 30 , error= 7.77466337999386\n",
      "rank= 40 , error= 7.226441616777893\n",
      "rank= 50 , error= 5.635359711372855\n",
      "rank= 60 , error= 1.0695098819109445\n",
      "rank= 70 , error= 0.23732621995080266\n",
      "rank= 80 , error= 0.008370320868769071\n",
      "rank= 90 , error= 0.0009445348938690905\n",
      "rank= 100 , error= 0.00011700495779041957\n",
      "  2.709232 seconds (21.21 M allocations: 3.030 GiB, 7.23% gc time)\n",
      "TCI.linkdims(qtt) = [1, 2, 4, 8, 14, 19, 37, 69, 100, 100, 100, 100, 100, 64, 32, 16, 8, 4, 2]\n",
      "nbit = 12\n",
      "rank= 10 , error= 11.103403488305618\n",
      "rank= 20 , error= 11.634175916954588\n",
      "rank= 30 , error= 7.502548949454509\n",
      "rank= 40 , error= 7.1748986359263265\n",
      "rank= 50 , error= 5.783872569476444\n",
      "rank= 60 , error= 3.8126747138935935\n",
      "rank= 70 , error= 2.668403545539852\n",
      "rank= 80 , error= 1.5151474122816797\n",
      "rank= 90 , error= 1.0995556666359414\n",
      "rank= 100 , error= 0.6560328869916676\n",
      "  4.868192 seconds (37.02 M allocations: 5.317 GiB, 7.24% gc time)\n",
      "TCI.linkdims(qtt) = [1, 2, 4, 8, 14, 19, 37, 69, 100, 100, 100, 100, 100, 100, 100, 100, 100, 64, 32, 16, 8, 4, 2]\n",
      "nbit = 14\n",
      "rank= 10 , error= 17.582313438604963\n",
      "rank= 20 , error= 9.844933835779388\n",
      "rank= 30 , error= 8.492686997923602\n",
      "rank= 40 , error= 7.931961629184418\n",
      "rank= 50 , error= 7.276845390216176\n",
      "rank= 60 , error= 3.7871260662435526\n",
      "rank= 70 , error= 2.6097059285448445\n",
      "rank= 80 , error= 1.668788869788087\n",
      "rank= 90 , error= 1.0621267137785526\n",
      "rank= 100 , error= 0.8266383539551431\n",
      "  7.048779 seconds (52.72 M allocations: 7.604 GiB, 7.19% gc time)\n",
      "TCI.linkdims(qtt) = [1, 2, 4, 8, 14, 18, 36, 68, 100, 100, 100, 100, 100, 100, 100, 100, 100, 100, 100, 100, 100, 64, 32, 16, 8, 4, 2]\n",
      "nbit = 20\n",
      "rank= 10 , error= 8.764126376297293\n",
      "rank= 20 , error= 10.853250524473646\n",
      "rank= 30 , error= 10.021132235639744\n",
      "rank= 40 , error= 10.485064759615721\n",
      "rank= 50 , error= 5.510571518273597\n",
      "rank= 60 , error= 4.144159873260316\n",
      "rank= 70 , error= 2.9082642957883102\n",
      "rank= 80 , error= 1.5557439730669511\n",
      "rank= 90 , error= 1.0363492305147282\n",
      "rank= 100 , error= 0.821472827860369\n",
      " 14.587223 seconds (100.16 M allocations: 14.674 GiB, 6.99% gc time)\n",
      "TCI.linkdims(qtt) = [1, 2, 4, 8, 14, 18, 36, 68, 100, 100, 100, 100, 100, 100, 100, 100, 100, 100, 100, 100, 100, 100, 100, 100, 100, 100, 100, 100, 100, 100, 100, 100, 100, 64, 32, 16, 8, 4, 2]\n",
      "nbit = 30\n",
      "rank= 10 , error= 8.764115674056198\n",
      "rank= 20 , error= 8.456888281901023\n",
      "rank= 30 , error= 8.40768608566105\n",
      "rank= 40 , error= 6.597072606602141\n",
      "rank= 50 , error= 7.775534240615634\n",
      "rank= 60 , error= 5.032272746178942\n",
      "rank= 70 , error= 2.7637750226559965\n",
      "rank= 80 , error= 2.5227395429556925\n",
      "rank= 90 , error= 1.5977021307524204\n",
      "rank= 100 , error= 0.6312110256145581\n",
      " 30.025011 seconds (177.70 M allocations: 26.602 GiB, 11.19% gc time)\n",
      "TCI.linkdims(qtt) = [1, 2, 4, 8, 14, 18, 36, 66, 100, 100, 100, 100, 100, 100, 100, 100, 100, 100, 100, 100, 100, 100, 100, 100, 100, 100, 100, 100, 100, 100, 100, 100, 100, 100, 100, 100, 100, 99, 99, 99, 99, 99, 99, 99, 99, 99, 99, 99, 99, 99, 99, 99, 99, 64, 32, 16, 8, 4, 2]\n"
     ]
    }
   ],
   "source": [
    "func = genfunc(t2, phi, m, beta, μ)\n",
    "timings_tci = Dict{Int,Float64}()\n",
    "\n",
    "for _ in 1:2\n",
    "for nbit in nbits\n",
    "    @show nbit\n",
    "    firstpivot = TCI.optfirstpivot(func, fill(2, 2*nbit))\n",
    "    t1 = time_ns()\n",
    "    @time qtt, ranks, errors = TCI.crossinterpolate(\n",
    "        ComplexF64, func, fill(2, 2*nbit),\n",
    "        firstpivot, tolerance=1e-20, maxiter=Dmax, verbosity=1\n",
    "    )\n",
    "    t2 = time_ns()\n",
    "    #@show maximum(TCI.linkdims(qtt))\n",
    "    @show TCI.linkdims(qtt)\n",
    "    timings_tci[nbit] = 1e-9 * (t2 - t1)\n",
    "end\n",
    "end"
   ]
  },
  {
   "cell_type": "code",
   "execution_count": 11,
   "metadata": {},
   "outputs": [
    {
     "data": {
      "text/plain": [
       "Dict{Int64, Float64} with 5 entries:\n",
       "  20 => 14.5872\n",
       "  10 => 2.70926\n",
       "  12 => 4.86822\n",
       "  30 => 30.025\n",
       "  14 => 7.0488"
      ]
     },
     "execution_count": 11,
     "metadata": {},
     "output_type": "execute_result"
    }
   ],
   "source": [
    "timings_tci"
   ]
  },
  {
   "cell_type": "markdown",
   "metadata": {},
   "source": [
    "# SVD"
   ]
  },
  {
   "cell_type": "code",
   "execution_count": 12,
   "metadata": {},
   "outputs": [],
   "source": [
    "timings_svd = Dict{Int,Float64}()\n",
    "\n",
    "for _ in 1:2\n",
    "for nbit in [8, 10, 12]\n",
    "    sitesx =  [Index(2, \"Qubit,kx=$k\") for k in 1:nbit]\n",
    "    sitesy =  [Index(2, \"Qubit,ky=$k\") for k in 1:nbit]\n",
    "    sites = collect(Iterators.flatten(zip(sitesx, sitesy)))\n",
    "    t1 = time_ns()\n",
    "    let\n",
    "        data_ref = gengkdata(genfunc(t2, phi, m, beta, μ), nbit)\n",
    "        tensor = ITensor(data_ref, vcat(reverse(sitesx), reverse(sitesy)))\n",
    "        M = MPS(tensor, sites; maxdim=Dmax)\n",
    "    end\n",
    "    t2 = time_ns()\n",
    "    timings_svd[nbit] = (t2 - t1) * 1e-9\n",
    "end\n",
    "end"
   ]
  },
  {
   "cell_type": "code",
   "execution_count": 13,
   "metadata": {},
   "outputs": [
    {
     "data": {
      "text/plain": [
       "Dict{Int64, Float64} with 3 entries:\n",
       "  10 => 9.92696\n",
       "  12 => 170.091\n",
       "  8  => 0.587281"
      ]
     },
     "execution_count": 13,
     "metadata": {},
     "output_type": "execute_result"
    }
   ],
   "source": [
    "timings_svd"
   ]
  },
  {
   "cell_type": "code",
   "execution_count": 1,
   "metadata": {},
   "outputs": [
    {
     "ename": "LoadError",
     "evalue": "UndefVarError: figure not defined",
     "output_type": "error",
     "traceback": [
      "UndefVarError: figure not defined",
      "",
      "Stacktrace:",
      " [1] top-level scope",
      "   @ In[1]:1",
      " [2] eval",
      "   @ ./boot.jl:373 [inlined]",
      " [3] include_string(mapexpr::typeof(REPL.softscope), mod::Module, code::String, filename::String)",
      "   @ Base ./loading.jl:1196"
     ]
    }
   ],
   "source": [
    "fig = figure(figsize=(6.4, 2.8))\n",
    "annotate(\"(c)\", xycoords=\"axes fraction\", xy=(-0.2,0.90), fontsize=21)\n",
    "\n",
    "annotate(L\"\\beta=%$(Int(beta)), D_\\mathrm{max}=%$(Dmax)\", xycoords=\"axes fraction\", xy=(0.02,0.86), fontsize=18)\n",
    "#annotate(L\"D_\\mathrm{max}=%$(Dmax)\", xycoords=\"axes fraction\", xy=(0.02,0.72), fontsize=18)\n",
    "\n",
    "pcolors = [\"r\", \"b\", \"g\", \"k\"]\n",
    "markers = [\"o\", \"x\", \"v\", \"+\"]\n",
    "ls = [\"-\", \"-.\", \"--\", \":\"]\n",
    "\n",
    "x = sort(collect(keys(timings_tci)))\n",
    "semilogy(x, [timings_tci[k] for k in x], marker=markers[1], ls=ls[1], color=pcolors[1], label=\"TCI\")\n",
    "\n",
    "x = sort(collect(keys(timings_svd)))\n",
    "semilogy(x, [timings_svd[k] for k in x], marker=markers[2], ls=ls[2], color=pcolors[2], label=\"SVD\")\n",
    "\n",
    "annotate(L\"\\propto N\", xycoords=\"axes fraction\", xy=(0.5, 0.65), fontsize=18)\n",
    "\n",
    "x = Float64[8, 30]\n",
    "\n",
    "semilogy(x, 2*x, label=\"\", ls=\"--\", color=\"k\", lw=1.0)\n",
    "#loglog(x, x .^ 4, label=\"\", ls=\"-.\", color=\"k\", lw=1.0)\n",
    "\n",
    "#xlabel(L\"D_\\mathrm{max}\")\n",
    "xlabel(L\"N\")\n",
    "ylabel(\"Timings [s]\")\n",
    "ylim([0.2,2000])\n",
    "legend(frameon=false, loc=\"lower right\", fontsize=16)\n",
    "\n",
    "tight_layout()\n",
    "savefig(\"dyson-c.pdf\", bbox_inches=\"tight\", transparent=true, rasterized=true)\n",
    "\n",
    "display(gcf())\n",
    "close(gcf())"
   ]
  },
  {
   "cell_type": "code",
   "execution_count": 15,
   "metadata": {},
   "outputs": [
    {
     "name": "stdout",
     "output_type": "stream",
     "text": [
      "collect(keys(timings_svd)) = [10, 12, 8]\n",
      "collect(values(timings_svd)) = [9.926963504000001, 170.09076205800002, 0.5872807160000001]\n"
     ]
    },
    {
     "data": {
      "text/plain": [
       "3-element Vector{Float64}:\n",
       "   9.926963504000001\n",
       " 170.09076205800002\n",
       "   0.5872807160000001"
      ]
     },
     "execution_count": 15,
     "metadata": {},
     "output_type": "execute_result"
    }
   ],
   "source": [
    "@show collect(keys(timings_svd))\n",
    "@show collect(values(timings_svd))"
   ]
  },
  {
   "cell_type": "code",
   "execution_count": null,
   "metadata": {},
   "outputs": [],
   "source": []
  },
  {
   "cell_type": "code",
   "execution_count": null,
   "metadata": {},
   "outputs": [],
   "source": []
  }
 ],
 "metadata": {
  "kernelspec": {
   "display_name": "Julia 1.7.2",
   "language": "julia",
   "name": "julia-1.7"
  },
  "language_info": {
   "file_extension": ".jl",
   "mimetype": "application/julia",
   "name": "julia",
   "version": "1.7.2"
  },
  "vscode": {
   "interpreter": {
    "hash": "00c116d220b2b8d42569aaa688d4390bb1cba381ca0959802384e4c4a9f7afb2"
   }
  }
 },
 "nbformat": 4,
 "nbformat_minor": 4
}
